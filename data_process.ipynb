{
 "cells": [
  {
   "cell_type": "code",
   "execution_count": 1,
   "metadata": {},
   "outputs": [],
   "source": [
    "import pandas as pd\n",
    "import json"
   ]
  },
  {
   "cell_type": "code",
   "execution_count": 9,
   "metadata": {},
   "outputs": [],
   "source": [
    "#使用try和except跳过无效数据\n",
    "file = open('train.json','r',encoding='utf-8')\n",
    "data_train=[]\n",
    "for line in file.readlines():\n",
    "    try:\n",
    "        dic = json.loads(line)\n",
    "    except Exception as e:\n",
    "        e\n",
    "    data_train.append(dic)"
   ]
  },
  {
   "cell_type": "code",
   "execution_count": 10,
   "metadata": {},
   "outputs": [
    {
     "data": {
      "text/plain": [
       "12133"
      ]
     },
     "execution_count": 10,
     "metadata": {},
     "output_type": "execute_result"
    }
   ],
   "source": [
    "len(data_train)"
   ]
  },
  {
   "cell_type": "code",
   "execution_count": 15,
   "metadata": {},
   "outputs": [
    {
     "data": {
      "text/plain": [
       "{'label': '11',\n",
       " 'label_des': '薅羊毛',\n",
       " 'sentence': '活动新用户领5元现金即日起成功注册酷划的新用户，填写邀请码80008即可领取5元现金奖励哦。小伙伴们不要错过，赶快来酷划锁屏领红包吧~每天解锁50次，一年可赚上千元酷划锁屏是一款可以自动赚钱的手机锁屏APP，每次解锁手机均有数额不等的现金奖励。赚到的钱可以极速提现到微信钱包、支付宝，也可以用来购买爆款商品。除手机解锁可以赚钱外，酷划还提供邀请赚、分享赚、高额赚等十余种赚钱方式，零成本可得高额回报。三年时间里，酷划已累计服务了超一亿名用户。在手赚软件中处于无可争议的领先地位。手机赚钱，用酷划锁屏就对了功能介绍手机解锁领现金每次解锁均有现金奖励锁屏精选新鲜资讯，边看边赚零花钱十种以上赚钱方式邀请赚、分享赚、试玩赚…多种赚钱方式任你选每天花上五分钟，酷划收入翻倍领邀请徒弟收入加倍邀请好友体验酷划，建立师徒关系徒弟挣钱，师傅得现金奖励提现购物任你挑选您的收入可提现，购物，话费充值微信一元提现，极速到账官网www.coohua.com微信公众号酷划在线客服邮箱help@coohua.com,每天解锁50次，一年可赚上千块,1、客户端个人中心电商相关功能下线2、锁屏改造客户端SDK'}"
      ]
     },
     "execution_count": 15,
     "metadata": {},
     "output_type": "execute_result"
    }
   ],
   "source": [
    "data_train[0]"
   ]
  },
  {
   "cell_type": "code",
   "execution_count": 11,
   "metadata": {},
   "outputs": [],
   "source": [
    "file = open('dev.json','r',encoding='utf-8')\n",
    "data_dev=[]\n",
    "for line in file.readlines():\n",
    "    try:\n",
    "        dic = json.loads(line)\n",
    "    except Exception as e:\n",
    "        e\n",
    "    data_dev.append(dic)"
   ]
  },
  {
   "cell_type": "code",
   "execution_count": 12,
   "metadata": {},
   "outputs": [
    {
     "data": {
      "text/plain": [
       "2599"
      ]
     },
     "execution_count": 12,
     "metadata": {},
     "output_type": "execute_result"
    }
   ],
   "source": [
    "len(data_dev)"
   ]
  },
  {
   "cell_type": "code",
   "execution_count": 25,
   "metadata": {},
   "outputs": [
    {
     "data": {
      "text/plain": [
       "{'label': '110',\n",
       " 'label_des': '社区超市',\n",
       " 'sentence': '朴朴快送超市创立于2016年，专注于打造移动端30分钟即时配送一站式购物平台，商品品类包含水果、蔬菜、肉禽蛋奶、海鲜水产、粮油调味、酒水饮料、休闲食品、日用品、外卖等。朴朴公司希望能以全新的商业模式，更高效快捷的仓储配送模式，致力于成为更快、更好、更多、更省的在线零售平台，带给消费者更好的消费体验，同时推动中国食品安全进程，成为一家让社会尊敬的互联网公司。,朴朴一下，又好又快,1.配送时间提示更加清晰友好2.保障用户隐私的一些优化3.其他提高使用体验的调整4.修复了一些已知bug'}"
      ]
     },
     "execution_count": 25,
     "metadata": {},
     "output_type": "execute_result"
    }
   ],
   "source": [
    "data_dev[0]"
   ]
  },
  {
   "cell_type": "code",
   "execution_count": 19,
   "metadata": {},
   "outputs": [],
   "source": [
    "data_train_label=[]\n",
    "for i in range(len(data_train)):\n",
    "    data_train_label.append(data_train[i]['label'])"
   ]
  },
  {
   "cell_type": "code",
   "execution_count": 21,
   "metadata": {},
   "outputs": [],
   "source": [
    "data_train_label_des=[]\n",
    "for i in range(len(data_train)):\n",
    "    data_train_label_des.append(data_train[i]['label_des'])"
   ]
  },
  {
   "cell_type": "code",
   "execution_count": 23,
   "metadata": {},
   "outputs": [],
   "source": [
    "data_train_sentences=[]\n",
    "for i in range(len(data_train)):\n",
    "    data_train_sentences.append(data_train[i]['sentence'])"
   ]
  },
  {
   "cell_type": "code",
   "execution_count": 24,
   "metadata": {},
   "outputs": [],
   "source": [
    "csv=pd.DataFrame({'label':data_train_label,'label_des':data_train_label_des,'sentence':data_train_sentences})\n",
    "csv.to_csv('train.csv',index=False,encoding='utf-8')"
   ]
  },
  {
   "cell_type": "code",
   "execution_count": 26,
   "metadata": {},
   "outputs": [],
   "source": [
    "data_dev_label=[]\n",
    "for i in range(len(data_dev)):\n",
    "    data_dev_label.append(data_dev[i]['label'])"
   ]
  },
  {
   "cell_type": "code",
   "execution_count": 28,
   "metadata": {},
   "outputs": [],
   "source": [
    "data_dev_label_des=[]\n",
    "for i in range(len(data_dev)):\n",
    "    data_dev_label_des.append(data_dev[i]['label_des'])"
   ]
  },
  {
   "cell_type": "code",
   "execution_count": 29,
   "metadata": {},
   "outputs": [],
   "source": [
    "data_dev_sentences=[]\n",
    "for i in range(len(data_dev)):\n",
    "    data_dev_sentences.append(data_dev[i]['sentence'])"
   ]
  },
  {
   "cell_type": "code",
   "execution_count": 30,
   "metadata": {},
   "outputs": [],
   "source": [
    "csv=pd.DataFrame({'label':data_dev_label,'label_des':data_dev_label_des,'sentence':data_dev_sentences})\n",
    "csv.to_csv('dev.csv',index=False,encoding='utf-8')"
   ]
  },
  {
   "cell_type": "code",
   "execution_count": null,
   "metadata": {},
   "outputs": [],
   "source": []
  }
 ],
 "metadata": {
  "kernelspec": {
   "display_name": "Python 3",
   "language": "python",
   "name": "python3"
  },
  "language_info": {
   "codemirror_mode": {
    "name": "ipython",
    "version": 3
   },
   "file_extension": ".py",
   "mimetype": "text/x-python",
   "name": "python",
   "nbconvert_exporter": "python",
   "pygments_lexer": "ipython3",
   "version": "3.6.5"
  }
 },
 "nbformat": 4,
 "nbformat_minor": 4
}
